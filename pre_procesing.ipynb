{
  "cells": [
    {
      "metadata": {
        "id": "Ci9xI_1DuMv8",
        "colab_type": "code",
        "colab": {},
        "trusted": true
      },
      "cell_type": "code",
      "source": "import pandas as pd\nimport numpy as np\nimport matplotlib.pyplot as plt",
      "execution_count": 1,
      "outputs": []
    },
    {
      "metadata": {
        "id": "Ol2Y8fR-u3U4",
        "colab_type": "code",
        "colab": {},
        "trusted": true
      },
      "cell_type": "code",
      "source": "data = pd.read_csv('./data.csv')\ncols = list(data)\ndata.count()",
      "execution_count": 128,
      "outputs": [
        {
          "output_type": "execute_result",
          "execution_count": 128,
          "data": {
            "text/plain": "country               27820\nyear                  27820\nsex                   27820\nage                   27820\nsuicides_no           27820\npopulation            27820\nsuicides/100k pop     27820\ncountry-year          27820\nHDI for year           8364\n gdp_for_year ($)     27820\ngdp_per_capita ($)    27820\ngeneration            27820\ndtype: int64"
          },
          "metadata": {}
        }
      ]
    },
    {
      "metadata": {
        "trusted": true
      },
      "cell_type": "code",
      "source": "# suicides_no to last column\ncols.insert(len(cols) - 1, cols.pop(cols.index('suicides_no')))\ndata = data.loc[:, cols]\ndata.head()",
      "execution_count": 129,
      "outputs": [
        {
          "output_type": "execute_result",
          "execution_count": 129,
          "data": {
            "text/html": "<div>\n<style scoped>\n    .dataframe tbody tr th:only-of-type {\n        vertical-align: middle;\n    }\n\n    .dataframe tbody tr th {\n        vertical-align: top;\n    }\n\n    .dataframe thead th {\n        text-align: right;\n    }\n</style>\n<table border=\"1\" class=\"dataframe\">\n  <thead>\n    <tr style=\"text-align: right;\">\n      <th></th>\n      <th>country</th>\n      <th>year</th>\n      <th>sex</th>\n      <th>age</th>\n      <th>population</th>\n      <th>suicides/100k pop</th>\n      <th>country-year</th>\n      <th>HDI for year</th>\n      <th>gdp_for_year ($)</th>\n      <th>gdp_per_capita ($)</th>\n      <th>generation</th>\n      <th>suicides_no</th>\n    </tr>\n  </thead>\n  <tbody>\n    <tr>\n      <th>0</th>\n      <td>Albania</td>\n      <td>1987</td>\n      <td>male</td>\n      <td>15-24 years</td>\n      <td>312900</td>\n      <td>6.71</td>\n      <td>Albania1987</td>\n      <td>NaN</td>\n      <td>2,156,624,900</td>\n      <td>796</td>\n      <td>Generation X</td>\n      <td>21</td>\n    </tr>\n    <tr>\n      <th>1</th>\n      <td>Albania</td>\n      <td>1987</td>\n      <td>male</td>\n      <td>35-54 years</td>\n      <td>308000</td>\n      <td>5.19</td>\n      <td>Albania1987</td>\n      <td>NaN</td>\n      <td>2,156,624,900</td>\n      <td>796</td>\n      <td>Silent</td>\n      <td>16</td>\n    </tr>\n    <tr>\n      <th>2</th>\n      <td>Albania</td>\n      <td>1987</td>\n      <td>female</td>\n      <td>15-24 years</td>\n      <td>289700</td>\n      <td>4.83</td>\n      <td>Albania1987</td>\n      <td>NaN</td>\n      <td>2,156,624,900</td>\n      <td>796</td>\n      <td>Generation X</td>\n      <td>14</td>\n    </tr>\n    <tr>\n      <th>3</th>\n      <td>Albania</td>\n      <td>1987</td>\n      <td>male</td>\n      <td>75+ years</td>\n      <td>21800</td>\n      <td>4.59</td>\n      <td>Albania1987</td>\n      <td>NaN</td>\n      <td>2,156,624,900</td>\n      <td>796</td>\n      <td>G.I. Generation</td>\n      <td>1</td>\n    </tr>\n    <tr>\n      <th>4</th>\n      <td>Albania</td>\n      <td>1987</td>\n      <td>male</td>\n      <td>25-34 years</td>\n      <td>274300</td>\n      <td>3.28</td>\n      <td>Albania1987</td>\n      <td>NaN</td>\n      <td>2,156,624,900</td>\n      <td>796</td>\n      <td>Boomers</td>\n      <td>9</td>\n    </tr>\n  </tbody>\n</table>\n</div>",
            "text/plain": "   country  year     sex          age  population  suicides/100k pop  \\\n0  Albania  1987    male  15-24 years      312900               6.71   \n1  Albania  1987    male  35-54 years      308000               5.19   \n2  Albania  1987  female  15-24 years      289700               4.83   \n3  Albania  1987    male    75+ years       21800               4.59   \n4  Albania  1987    male  25-34 years      274300               3.28   \n\n  country-year  HDI for year  gdp_for_year ($)   gdp_per_capita ($)  \\\n0  Albania1987           NaN      2,156,624,900                 796   \n1  Albania1987           NaN      2,156,624,900                 796   \n2  Albania1987           NaN      2,156,624,900                 796   \n3  Albania1987           NaN      2,156,624,900                 796   \n4  Albania1987           NaN      2,156,624,900                 796   \n\n        generation  suicides_no  \n0     Generation X           21  \n1           Silent           16  \n2     Generation X           14  \n3  G.I. Generation            1  \n4          Boomers            9  "
          },
          "metadata": {}
        }
      ]
    },
    {
      "metadata": {
        "trusted": true,
        "scrolled": true
      },
      "cell_type": "code",
      "source": "del data['country']\ndel data['country-year']\ndel data['year']\ndel data['HDI for year']\ndel data['generation']",
      "execution_count": 130,
      "outputs": []
    },
    {
      "metadata": {
        "trusted": true
      },
      "cell_type": "code",
      "source": "data.columns = data.columns.str.replace(' ', '')",
      "execution_count": 131,
      "outputs": []
    },
    {
      "metadata": {
        "trusted": true
      },
      "cell_type": "code",
      "source": "data.head()",
      "execution_count": 114,
      "outputs": [
        {
          "output_type": "execute_result",
          "execution_count": 114,
          "data": {
            "text/html": "<div>\n<style scoped>\n    .dataframe tbody tr th:only-of-type {\n        vertical-align: middle;\n    }\n\n    .dataframe tbody tr th {\n        vertical-align: top;\n    }\n\n    .dataframe thead th {\n        text-align: right;\n    }\n</style>\n<table border=\"1\" class=\"dataframe\">\n  <thead>\n    <tr style=\"text-align: right;\">\n      <th></th>\n      <th>sex</th>\n      <th>age</th>\n      <th>population</th>\n      <th>suicides/100kpop</th>\n      <th>gdp_for_year($)</th>\n      <th>gdp_per_capita($)</th>\n      <th>suicides_no</th>\n    </tr>\n  </thead>\n  <tbody>\n    <tr>\n      <th>0</th>\n      <td>male</td>\n      <td>15-24 years</td>\n      <td>312900</td>\n      <td>6.71</td>\n      <td>2,156,624,900</td>\n      <td>796</td>\n      <td>21</td>\n    </tr>\n    <tr>\n      <th>1</th>\n      <td>male</td>\n      <td>35-54 years</td>\n      <td>308000</td>\n      <td>5.19</td>\n      <td>2,156,624,900</td>\n      <td>796</td>\n      <td>16</td>\n    </tr>\n    <tr>\n      <th>2</th>\n      <td>female</td>\n      <td>15-24 years</td>\n      <td>289700</td>\n      <td>4.83</td>\n      <td>2,156,624,900</td>\n      <td>796</td>\n      <td>14</td>\n    </tr>\n    <tr>\n      <th>3</th>\n      <td>male</td>\n      <td>75+ years</td>\n      <td>21800</td>\n      <td>4.59</td>\n      <td>2,156,624,900</td>\n      <td>796</td>\n      <td>1</td>\n    </tr>\n    <tr>\n      <th>4</th>\n      <td>male</td>\n      <td>25-34 years</td>\n      <td>274300</td>\n      <td>3.28</td>\n      <td>2,156,624,900</td>\n      <td>796</td>\n      <td>9</td>\n    </tr>\n  </tbody>\n</table>\n</div>",
            "text/plain": "      sex          age  population  suicides/100kpop gdp_for_year($)  \\\n0    male  15-24 years      312900              6.71   2,156,624,900   \n1    male  35-54 years      308000              5.19   2,156,624,900   \n2  female  15-24 years      289700              4.83   2,156,624,900   \n3    male    75+ years       21800              4.59   2,156,624,900   \n4    male  25-34 years      274300              3.28   2,156,624,900   \n\n   gdp_per_capita($)  suicides_no  \n0                796           21  \n1                796           16  \n2                796           14  \n3                796            1  \n4                796            9  "
          },
          "metadata": {}
        }
      ]
    },
    {
      "metadata": {
        "trusted": true
      },
      "cell_type": "code",
      "source": "data.dtypes",
      "execution_count": 115,
      "outputs": [
        {
          "output_type": "execute_result",
          "execution_count": 115,
          "data": {
            "text/plain": "sex                   object\nage                   object\npopulation             int64\nsuicides/100kpop     float64\ngdp_for_year($)       object\ngdp_per_capita($)      int64\nsuicides_no            int64\ndtype: object"
          },
          "metadata": {}
        }
      ]
    },
    {
      "metadata": {
        "trusted": true
      },
      "cell_type": "code",
      "source": "data['gdp_for_year($)'] = data['gdp_for_year($)'].str.replace(',', '')\ndata['gdp_for_year($)'] = data['gdp_for_year($)'].astype('int')",
      "execution_count": 132,
      "outputs": []
    },
    {
      "metadata": {
        "trusted": true
      },
      "cell_type": "code",
      "source": "data.dtypes",
      "execution_count": 126,
      "outputs": [
        {
          "output_type": "execute_result",
          "execution_count": 126,
          "data": {
            "text/plain": "country               object\nsex                   object\nage                   object\npopulation             int64\nsuicides/100kpop     float64\ngdp_for_year($)        int64\ngdp_per_capita($)      int64\nsuicides_no            int64\ndtype: object"
          },
          "metadata": {}
        }
      ]
    },
    {
      "metadata": {
        "trusted": true
      },
      "cell_type": "code",
      "source": "data.head()",
      "execution_count": 119,
      "outputs": [
        {
          "output_type": "execute_result",
          "execution_count": 119,
          "data": {
            "text/html": "<div>\n<style scoped>\n    .dataframe tbody tr th:only-of-type {\n        vertical-align: middle;\n    }\n\n    .dataframe tbody tr th {\n        vertical-align: top;\n    }\n\n    .dataframe thead th {\n        text-align: right;\n    }\n</style>\n<table border=\"1\" class=\"dataframe\">\n  <thead>\n    <tr style=\"text-align: right;\">\n      <th></th>\n      <th>sex</th>\n      <th>age</th>\n      <th>population</th>\n      <th>suicides/100kpop</th>\n      <th>gdp_for_year($)</th>\n      <th>gdp_per_capita($)</th>\n      <th>suicides_no</th>\n    </tr>\n  </thead>\n  <tbody>\n    <tr>\n      <th>0</th>\n      <td>male</td>\n      <td>15-24 years</td>\n      <td>312900</td>\n      <td>6.71</td>\n      <td>2156624900</td>\n      <td>796</td>\n      <td>21</td>\n    </tr>\n    <tr>\n      <th>1</th>\n      <td>male</td>\n      <td>35-54 years</td>\n      <td>308000</td>\n      <td>5.19</td>\n      <td>2156624900</td>\n      <td>796</td>\n      <td>16</td>\n    </tr>\n    <tr>\n      <th>2</th>\n      <td>female</td>\n      <td>15-24 years</td>\n      <td>289700</td>\n      <td>4.83</td>\n      <td>2156624900</td>\n      <td>796</td>\n      <td>14</td>\n    </tr>\n    <tr>\n      <th>3</th>\n      <td>male</td>\n      <td>75+ years</td>\n      <td>21800</td>\n      <td>4.59</td>\n      <td>2156624900</td>\n      <td>796</td>\n      <td>1</td>\n    </tr>\n    <tr>\n      <th>4</th>\n      <td>male</td>\n      <td>25-34 years</td>\n      <td>274300</td>\n      <td>3.28</td>\n      <td>2156624900</td>\n      <td>796</td>\n      <td>9</td>\n    </tr>\n  </tbody>\n</table>\n</div>",
            "text/plain": "      sex          age  population  suicides/100kpop  gdp_for_year($)  \\\n0    male  15-24 years      312900              6.71       2156624900   \n1    male  35-54 years      308000              5.19       2156624900   \n2  female  15-24 years      289700              4.83       2156624900   \n3    male    75+ years       21800              4.59       2156624900   \n4    male  25-34 years      274300              3.28       2156624900   \n\n   gdp_per_capita($)  suicides_no  \n0                796           21  \n1                796           16  \n2                796           14  \n3                796            1  \n4                796            9  "
          },
          "metadata": {}
        }
      ]
    },
    {
      "metadata": {
        "trusted": true
      },
      "cell_type": "code",
      "source": "data.to_csv('pre_procesing_output.csv', index=False)",
      "execution_count": 133,
      "outputs": []
    },
    {
      "metadata": {
        "id": "EEEoNm4Lu69s",
        "colab_type": "code",
        "colab": {},
        "trusted": true,
        "scrolled": true
      },
      "cell_type": "code",
      "source": "data.head()",
      "execution_count": 6,
      "outputs": [
        {
          "output_type": "execute_result",
          "execution_count": 6,
          "data": {
            "text/html": "<div>\n<style scoped>\n    .dataframe tbody tr th:only-of-type {\n        vertical-align: middle;\n    }\n\n    .dataframe tbody tr th {\n        vertical-align: top;\n    }\n\n    .dataframe thead th {\n        text-align: right;\n    }\n</style>\n<table border=\"1\" class=\"dataframe\">\n  <thead>\n    <tr style=\"text-align: right;\">\n      <th></th>\n      <th>sex</th>\n      <th>age</th>\n      <th>population</th>\n      <th>suicides/100k pop</th>\n      <th>gdp_for_year ($)</th>\n      <th>gdp_per_capita ($)</th>\n      <th>suicides_no</th>\n    </tr>\n  </thead>\n  <tbody>\n    <tr>\n      <th>0</th>\n      <td>male</td>\n      <td>15-24 years</td>\n      <td>312900</td>\n      <td>6.71</td>\n      <td>2,156,624,900</td>\n      <td>796</td>\n      <td>21</td>\n    </tr>\n    <tr>\n      <th>1</th>\n      <td>male</td>\n      <td>35-54 years</td>\n      <td>308000</td>\n      <td>5.19</td>\n      <td>2,156,624,900</td>\n      <td>796</td>\n      <td>16</td>\n    </tr>\n    <tr>\n      <th>2</th>\n      <td>female</td>\n      <td>15-24 years</td>\n      <td>289700</td>\n      <td>4.83</td>\n      <td>2,156,624,900</td>\n      <td>796</td>\n      <td>14</td>\n    </tr>\n    <tr>\n      <th>3</th>\n      <td>male</td>\n      <td>75+ years</td>\n      <td>21800</td>\n      <td>4.59</td>\n      <td>2,156,624,900</td>\n      <td>796</td>\n      <td>1</td>\n    </tr>\n    <tr>\n      <th>4</th>\n      <td>male</td>\n      <td>25-34 years</td>\n      <td>274300</td>\n      <td>3.28</td>\n      <td>2,156,624,900</td>\n      <td>796</td>\n      <td>9</td>\n    </tr>\n  </tbody>\n</table>\n</div>",
            "text/plain": "      sex          age  population  suicides/100k pop  gdp_for_year ($)   \\\n0    male  15-24 years      312900               6.71      2,156,624,900   \n1    male  35-54 years      308000               5.19      2,156,624,900   \n2  female  15-24 years      289700               4.83      2,156,624,900   \n3    male    75+ years       21800               4.59      2,156,624,900   \n4    male  25-34 years      274300               3.28      2,156,624,900   \n\n   gdp_per_capita ($)  suicides_no  \n0                 796           21  \n1                 796           16  \n2                 796           14  \n3                 796            1  \n4                 796            9  "
          },
          "metadata": {}
        }
      ]
    },
    {
      "metadata": {
        "trusted": true
      },
      "cell_type": "code",
      "source": "# only males\nmales = data[data['sex'] == 'male']\n# len(males)\nsum_males = males['suicides_no'].sum()\n\n# only females\nfemales = data[data['sex'] == 'female']\n# len(females)\nsum_females = females['suicides_no'].sum()\n\nif(sum_females > sum_males):\n    print('More females than males')\nelse:\n    print('More males than females')\nprint('Females =', sum_females, ' , Males = ', sum_males)",
      "execution_count": 22,
      "outputs": [
        {
          "output_type": "stream",
          "text": "More males than females\nFemales = 1559510  , Males =  5188910\n",
          "name": "stdout"
        }
      ]
    }
  ],
  "metadata": {
    "kernelspec": {
      "name": "python36",
      "display_name": "Python 3.6",
      "language": "python"
    },
    "language_info": {
      "mimetype": "text/x-python",
      "nbconvert_exporter": "python",
      "name": "python",
      "pygments_lexer": "ipython3",
      "version": "3.6.6",
      "file_extension": ".py",
      "codemirror_mode": {
        "version": 3,
        "name": "ipython"
      }
    }
  },
  "nbformat": 4,
  "nbformat_minor": 2
}