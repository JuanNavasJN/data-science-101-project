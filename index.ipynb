{
  "cells": [
    {
      "metadata": {},
      "cell_type": "markdown",
      "source": "### Procesamiento de los datos"
    },
    {
      "metadata": {
        "trusted": true
      },
      "cell_type": "code",
      "source": "import pandas as pd\n\ndata = pd.read_csv('./data.csv')",
      "execution_count": 8,
      "outputs": []
    },
    {
      "metadata": {},
      "cell_type": "markdown",
      "source": "Vemos un muestra de las primeras observaciones del conjunto de datos"
    },
    {
      "metadata": {
        "trusted": true
      },
      "cell_type": "code",
      "source": "data.head()",
      "execution_count": 2,
      "outputs": [
        {
          "output_type": "execute_result",
          "execution_count": 2,
          "data": {
            "text/html": "<div>\n<style scoped>\n    .dataframe tbody tr th:only-of-type {\n        vertical-align: middle;\n    }\n\n    .dataframe tbody tr th {\n        vertical-align: top;\n    }\n\n    .dataframe thead th {\n        text-align: right;\n    }\n</style>\n<table border=\"1\" class=\"dataframe\">\n  <thead>\n    <tr style=\"text-align: right;\">\n      <th></th>\n      <th>country</th>\n      <th>year</th>\n      <th>sex</th>\n      <th>age</th>\n      <th>suicides_no</th>\n      <th>population</th>\n      <th>suicides/100k pop</th>\n      <th>country-year</th>\n      <th>HDI for year</th>\n      <th>gdp_for_year ($)</th>\n      <th>gdp_per_capita ($)</th>\n      <th>generation</th>\n    </tr>\n  </thead>\n  <tbody>\n    <tr>\n      <th>0</th>\n      <td>Albania</td>\n      <td>1987</td>\n      <td>male</td>\n      <td>15-24 years</td>\n      <td>21</td>\n      <td>312900</td>\n      <td>6.71</td>\n      <td>Albania1987</td>\n      <td>NaN</td>\n      <td>2,156,624,900</td>\n      <td>796</td>\n      <td>Generation X</td>\n    </tr>\n    <tr>\n      <th>1</th>\n      <td>Albania</td>\n      <td>1987</td>\n      <td>male</td>\n      <td>35-54 years</td>\n      <td>16</td>\n      <td>308000</td>\n      <td>5.19</td>\n      <td>Albania1987</td>\n      <td>NaN</td>\n      <td>2,156,624,900</td>\n      <td>796</td>\n      <td>Silent</td>\n    </tr>\n    <tr>\n      <th>2</th>\n      <td>Albania</td>\n      <td>1987</td>\n      <td>female</td>\n      <td>15-24 years</td>\n      <td>14</td>\n      <td>289700</td>\n      <td>4.83</td>\n      <td>Albania1987</td>\n      <td>NaN</td>\n      <td>2,156,624,900</td>\n      <td>796</td>\n      <td>Generation X</td>\n    </tr>\n    <tr>\n      <th>3</th>\n      <td>Albania</td>\n      <td>1987</td>\n      <td>male</td>\n      <td>75+ years</td>\n      <td>1</td>\n      <td>21800</td>\n      <td>4.59</td>\n      <td>Albania1987</td>\n      <td>NaN</td>\n      <td>2,156,624,900</td>\n      <td>796</td>\n      <td>G.I. Generation</td>\n    </tr>\n    <tr>\n      <th>4</th>\n      <td>Albania</td>\n      <td>1987</td>\n      <td>male</td>\n      <td>25-34 years</td>\n      <td>9</td>\n      <td>274300</td>\n      <td>3.28</td>\n      <td>Albania1987</td>\n      <td>NaN</td>\n      <td>2,156,624,900</td>\n      <td>796</td>\n      <td>Boomers</td>\n    </tr>\n  </tbody>\n</table>\n</div>",
            "text/plain": "   country  year     sex          age  suicides_no  population  \\\n0  Albania  1987    male  15-24 years           21      312900   \n1  Albania  1987    male  35-54 years           16      308000   \n2  Albania  1987  female  15-24 years           14      289700   \n3  Albania  1987    male    75+ years            1       21800   \n4  Albania  1987    male  25-34 years            9      274300   \n\n   suicides/100k pop country-year  HDI for year  gdp_for_year ($)   \\\n0               6.71  Albania1987           NaN      2,156,624,900   \n1               5.19  Albania1987           NaN      2,156,624,900   \n2               4.83  Albania1987           NaN      2,156,624,900   \n3               4.59  Albania1987           NaN      2,156,624,900   \n4               3.28  Albania1987           NaN      2,156,624,900   \n\n   gdp_per_capita ($)       generation  \n0                 796     Generation X  \n1                 796           Silent  \n2                 796     Generation X  \n3                 796  G.I. Generation  \n4                 796          Boomers  "
          },
          "metadata": {}
        }
      ]
    },
    {
      "metadata": {},
      "cell_type": "markdown",
      "source": "Rotamos la variable a predecir **suicides_no** a la ultima columna"
    },
    {
      "metadata": {
        "trusted": true
      },
      "cell_type": "code",
      "source": "cols = list(data)\ncols.insert(len(cols) - 1, cols.pop(cols.index('suicides_no')))\ndata = data.loc[:, cols]\ndata.head()",
      "execution_count": 9,
      "outputs": [
        {
          "output_type": "execute_result",
          "execution_count": 9,
          "data": {
            "text/html": "<div>\n<style scoped>\n    .dataframe tbody tr th:only-of-type {\n        vertical-align: middle;\n    }\n\n    .dataframe tbody tr th {\n        vertical-align: top;\n    }\n\n    .dataframe thead th {\n        text-align: right;\n    }\n</style>\n<table border=\"1\" class=\"dataframe\">\n  <thead>\n    <tr style=\"text-align: right;\">\n      <th></th>\n      <th>country</th>\n      <th>year</th>\n      <th>sex</th>\n      <th>age</th>\n      <th>population</th>\n      <th>suicides/100k pop</th>\n      <th>country-year</th>\n      <th>HDI for year</th>\n      <th>gdp_for_year ($)</th>\n      <th>gdp_per_capita ($)</th>\n      <th>generation</th>\n      <th>suicides_no</th>\n    </tr>\n  </thead>\n  <tbody>\n    <tr>\n      <th>0</th>\n      <td>Albania</td>\n      <td>1987</td>\n      <td>male</td>\n      <td>15-24 years</td>\n      <td>312900</td>\n      <td>6.71</td>\n      <td>Albania1987</td>\n      <td>NaN</td>\n      <td>2,156,624,900</td>\n      <td>796</td>\n      <td>Generation X</td>\n      <td>21</td>\n    </tr>\n    <tr>\n      <th>1</th>\n      <td>Albania</td>\n      <td>1987</td>\n      <td>male</td>\n      <td>35-54 years</td>\n      <td>308000</td>\n      <td>5.19</td>\n      <td>Albania1987</td>\n      <td>NaN</td>\n      <td>2,156,624,900</td>\n      <td>796</td>\n      <td>Silent</td>\n      <td>16</td>\n    </tr>\n    <tr>\n      <th>2</th>\n      <td>Albania</td>\n      <td>1987</td>\n      <td>female</td>\n      <td>15-24 years</td>\n      <td>289700</td>\n      <td>4.83</td>\n      <td>Albania1987</td>\n      <td>NaN</td>\n      <td>2,156,624,900</td>\n      <td>796</td>\n      <td>Generation X</td>\n      <td>14</td>\n    </tr>\n    <tr>\n      <th>3</th>\n      <td>Albania</td>\n      <td>1987</td>\n      <td>male</td>\n      <td>75+ years</td>\n      <td>21800</td>\n      <td>4.59</td>\n      <td>Albania1987</td>\n      <td>NaN</td>\n      <td>2,156,624,900</td>\n      <td>796</td>\n      <td>G.I. Generation</td>\n      <td>1</td>\n    </tr>\n    <tr>\n      <th>4</th>\n      <td>Albania</td>\n      <td>1987</td>\n      <td>male</td>\n      <td>25-34 years</td>\n      <td>274300</td>\n      <td>3.28</td>\n      <td>Albania1987</td>\n      <td>NaN</td>\n      <td>2,156,624,900</td>\n      <td>796</td>\n      <td>Boomers</td>\n      <td>9</td>\n    </tr>\n  </tbody>\n</table>\n</div>",
            "text/plain": "   country  year     sex          age  population  suicides/100k pop  \\\n0  Albania  1987    male  15-24 years      312900               6.71   \n1  Albania  1987    male  35-54 years      308000               5.19   \n2  Albania  1987  female  15-24 years      289700               4.83   \n3  Albania  1987    male    75+ years       21800               4.59   \n4  Albania  1987    male  25-34 years      274300               3.28   \n\n  country-year  HDI for year  gdp_for_year ($)   gdp_per_capita ($)  \\\n0  Albania1987           NaN      2,156,624,900                 796   \n1  Albania1987           NaN      2,156,624,900                 796   \n2  Albania1987           NaN      2,156,624,900                 796   \n3  Albania1987           NaN      2,156,624,900                 796   \n4  Albania1987           NaN      2,156,624,900                 796   \n\n        generation  suicides_no  \n0     Generation X           21  \n1           Silent           16  \n2     Generation X           14  \n3  G.I. Generation            1  \n4          Boomers            9  "
          },
          "metadata": {}
        }
      ]
    },
    {
      "metadata": {},
      "cell_type": "markdown",
      "source": "Eliminamos las columnas que no son de nuestro interes, ya que para simplificar usaremos solo las variables numericas, las variables categoricas seran completamente removidas en pasos posteriores, ya que seran necesarias para relizar una agrupacion para tomar en cuenta todas las personas"
    },
    {
      "metadata": {
        "trusted": true
      },
      "cell_type": "code",
      "source": "del data['country']\ndel data['year']\ndel data['HDI for year']\ndel data['generation']\ndata.head()",
      "execution_count": 10,
      "outputs": [
        {
          "output_type": "execute_result",
          "execution_count": 10,
          "data": {
            "text/html": "<div>\n<style scoped>\n    .dataframe tbody tr th:only-of-type {\n        vertical-align: middle;\n    }\n\n    .dataframe tbody tr th {\n        vertical-align: top;\n    }\n\n    .dataframe thead th {\n        text-align: right;\n    }\n</style>\n<table border=\"1\" class=\"dataframe\">\n  <thead>\n    <tr style=\"text-align: right;\">\n      <th></th>\n      <th>sex</th>\n      <th>age</th>\n      <th>population</th>\n      <th>suicides/100k pop</th>\n      <th>country-year</th>\n      <th>gdp_for_year ($)</th>\n      <th>gdp_per_capita ($)</th>\n      <th>suicides_no</th>\n    </tr>\n  </thead>\n  <tbody>\n    <tr>\n      <th>0</th>\n      <td>male</td>\n      <td>15-24 years</td>\n      <td>312900</td>\n      <td>6.71</td>\n      <td>Albania1987</td>\n      <td>2,156,624,900</td>\n      <td>796</td>\n      <td>21</td>\n    </tr>\n    <tr>\n      <th>1</th>\n      <td>male</td>\n      <td>35-54 years</td>\n      <td>308000</td>\n      <td>5.19</td>\n      <td>Albania1987</td>\n      <td>2,156,624,900</td>\n      <td>796</td>\n      <td>16</td>\n    </tr>\n    <tr>\n      <th>2</th>\n      <td>female</td>\n      <td>15-24 years</td>\n      <td>289700</td>\n      <td>4.83</td>\n      <td>Albania1987</td>\n      <td>2,156,624,900</td>\n      <td>796</td>\n      <td>14</td>\n    </tr>\n    <tr>\n      <th>3</th>\n      <td>male</td>\n      <td>75+ years</td>\n      <td>21800</td>\n      <td>4.59</td>\n      <td>Albania1987</td>\n      <td>2,156,624,900</td>\n      <td>796</td>\n      <td>1</td>\n    </tr>\n    <tr>\n      <th>4</th>\n      <td>male</td>\n      <td>25-34 years</td>\n      <td>274300</td>\n      <td>3.28</td>\n      <td>Albania1987</td>\n      <td>2,156,624,900</td>\n      <td>796</td>\n      <td>9</td>\n    </tr>\n  </tbody>\n</table>\n</div>",
            "text/plain": "      sex          age  population  suicides/100k pop country-year  \\\n0    male  15-24 years      312900               6.71  Albania1987   \n1    male  35-54 years      308000               5.19  Albania1987   \n2  female  15-24 years      289700               4.83  Albania1987   \n3    male    75+ years       21800               4.59  Albania1987   \n4    male  25-34 years      274300               3.28  Albania1987   \n\n   gdp_for_year ($)   gdp_per_capita ($)  suicides_no  \n0      2,156,624,900                 796           21  \n1      2,156,624,900                 796           16  \n2      2,156,624,900                 796           14  \n3      2,156,624,900                 796            1  \n4      2,156,624,900                 796            9  "
          },
          "metadata": {}
        }
      ]
    },
    {
      "metadata": {},
      "cell_type": "markdown",
      "source": "Limpiamos los nombres de las columnas, quitando los espacios en blanco"
    },
    {
      "metadata": {
        "trusted": true
      },
      "cell_type": "code",
      "source": "data.columns = data.columns.str.replace(' ', '')\ndata.head()",
      "execution_count": 12,
      "outputs": [
        {
          "output_type": "execute_result",
          "execution_count": 12,
          "data": {
            "text/html": "<div>\n<style scoped>\n    .dataframe tbody tr th:only-of-type {\n        vertical-align: middle;\n    }\n\n    .dataframe tbody tr th {\n        vertical-align: top;\n    }\n\n    .dataframe thead th {\n        text-align: right;\n    }\n</style>\n<table border=\"1\" class=\"dataframe\">\n  <thead>\n    <tr style=\"text-align: right;\">\n      <th></th>\n      <th>sex</th>\n      <th>age</th>\n      <th>population</th>\n      <th>suicides/100kpop</th>\n      <th>country-year</th>\n      <th>gdp_for_year($)</th>\n      <th>gdp_per_capita($)</th>\n      <th>suicides_no</th>\n    </tr>\n  </thead>\n  <tbody>\n    <tr>\n      <th>0</th>\n      <td>male</td>\n      <td>15-24 years</td>\n      <td>312900</td>\n      <td>6.71</td>\n      <td>Albania1987</td>\n      <td>2,156,624,900</td>\n      <td>796</td>\n      <td>21</td>\n    </tr>\n    <tr>\n      <th>1</th>\n      <td>male</td>\n      <td>35-54 years</td>\n      <td>308000</td>\n      <td>5.19</td>\n      <td>Albania1987</td>\n      <td>2,156,624,900</td>\n      <td>796</td>\n      <td>16</td>\n    </tr>\n    <tr>\n      <th>2</th>\n      <td>female</td>\n      <td>15-24 years</td>\n      <td>289700</td>\n      <td>4.83</td>\n      <td>Albania1987</td>\n      <td>2,156,624,900</td>\n      <td>796</td>\n      <td>14</td>\n    </tr>\n    <tr>\n      <th>3</th>\n      <td>male</td>\n      <td>75+ years</td>\n      <td>21800</td>\n      <td>4.59</td>\n      <td>Albania1987</td>\n      <td>2,156,624,900</td>\n      <td>796</td>\n      <td>1</td>\n    </tr>\n    <tr>\n      <th>4</th>\n      <td>male</td>\n      <td>25-34 years</td>\n      <td>274300</td>\n      <td>3.28</td>\n      <td>Albania1987</td>\n      <td>2,156,624,900</td>\n      <td>796</td>\n      <td>9</td>\n    </tr>\n  </tbody>\n</table>\n</div>",
            "text/plain": "      sex          age  population  suicides/100kpop country-year  \\\n0    male  15-24 years      312900              6.71  Albania1987   \n1    male  35-54 years      308000              5.19  Albania1987   \n2  female  15-24 years      289700              4.83  Albania1987   \n3    male    75+ years       21800              4.59  Albania1987   \n4    male  25-34 years      274300              3.28  Albania1987   \n\n  gdp_for_year($)  gdp_per_capita($)  suicides_no  \n0   2,156,624,900                796           21  \n1   2,156,624,900                796           16  \n2   2,156,624,900                796           14  \n3   2,156,624,900                796            1  \n4   2,156,624,900                796            9  "
          },
          "metadata": {}
        }
      ]
    },
    {
      "metadata": {},
      "cell_type": "markdown",
      "source": "En la columna **gdp_for_year($)** realizamos una transformacion del tipo de dato, para esto eliminamos las comas y luego lo convertimos a tipo entero"
    },
    {
      "metadata": {
        "trusted": true
      },
      "cell_type": "code",
      "source": "data['gdp_for_year($)'] = data['gdp_for_year($)'].str.replace(',', '')\ndata['gdp_for_year($)'] = data['gdp_for_year($)'].astype('int')\ndata.dtypes",
      "execution_count": 13,
      "outputs": [
        {
          "output_type": "execute_result",
          "execution_count": 13,
          "data": {
            "text/plain": "sex                   object\nage                   object\npopulation             int64\nsuicides/100kpop     float64\ncountry-year          object\ngdp_for_year($)        int64\ngdp_per_capita($)      int64\nsuicides_no            int64\ndtype: object"
          },
          "metadata": {}
        }
      ]
    },
    {
      "metadata": {},
      "cell_type": "markdown",
      "source": "Para tomar en cuenta todas las personas para un mismo **country-year** realizamos la siguiente agrupacion"
    },
    {
      "metadata": {
        "trusted": true
      },
      "cell_type": "code",
      "source": "data = data.groupby(\n   ['country-year'],\n    as_index=False\n).agg(\n    {\n         'population': 'sum',    \n         'suicides/100kpop': 'sum',  \n         'gdp_for_year($)': 'median',\n         'gdp_per_capita($)': 'median',\n         'suicides_no': 'sum'\n    }\n)\ndata.head()",
      "execution_count": 14,
      "outputs": [
        {
          "output_type": "execute_result",
          "execution_count": 14,
          "data": {
            "text/html": "<div>\n<style scoped>\n    .dataframe tbody tr th:only-of-type {\n        vertical-align: middle;\n    }\n\n    .dataframe tbody tr th {\n        vertical-align: top;\n    }\n\n    .dataframe thead th {\n        text-align: right;\n    }\n</style>\n<table border=\"1\" class=\"dataframe\">\n  <thead>\n    <tr style=\"text-align: right;\">\n      <th></th>\n      <th>country-year</th>\n      <th>population</th>\n      <th>suicides/100kpop</th>\n      <th>gdp_for_year($)</th>\n      <th>gdp_per_capita($)</th>\n      <th>suicides_no</th>\n    </tr>\n  </thead>\n  <tbody>\n    <tr>\n      <th>0</th>\n      <td>Albania1987</td>\n      <td>2709600</td>\n      <td>31.85</td>\n      <td>2156624900</td>\n      <td>796</td>\n      <td>73</td>\n    </tr>\n    <tr>\n      <th>1</th>\n      <td>Albania1988</td>\n      <td>2764300</td>\n      <td>32.46</td>\n      <td>2126000000</td>\n      <td>769</td>\n      <td>63</td>\n    </tr>\n    <tr>\n      <th>2</th>\n      <td>Albania1989</td>\n      <td>2803100</td>\n      <td>33.40</td>\n      <td>2335124988</td>\n      <td>833</td>\n      <td>68</td>\n    </tr>\n    <tr>\n      <th>3</th>\n      <td>Albania1992</td>\n      <td>2822500</td>\n      <td>18.00</td>\n      <td>709452584</td>\n      <td>251</td>\n      <td>47</td>\n    </tr>\n    <tr>\n      <th>4</th>\n      <td>Albania1993</td>\n      <td>2807300</td>\n      <td>32.56</td>\n      <td>1228071038</td>\n      <td>437</td>\n      <td>73</td>\n    </tr>\n  </tbody>\n</table>\n</div>",
            "text/plain": "  country-year  population  suicides/100kpop  gdp_for_year($)  \\\n0  Albania1987     2709600             31.85       2156624900   \n1  Albania1988     2764300             32.46       2126000000   \n2  Albania1989     2803100             33.40       2335124988   \n3  Albania1992     2822500             18.00        709452584   \n4  Albania1993     2807300             32.56       1228071038   \n\n   gdp_per_capita($)  suicides_no  \n0                796           73  \n1                769           63  \n2                833           68  \n3                251           47  \n4                437           73  "
          },
          "metadata": {}
        }
      ]
    },
    {
      "metadata": {},
      "cell_type": "markdown",
      "source": "Ya podemos elminar la variable categorica **country-year** "
    },
    {
      "metadata": {
        "trusted": true
      },
      "cell_type": "code",
      "source": "del data['country-year']\ndata.head()",
      "execution_count": 15,
      "outputs": [
        {
          "output_type": "execute_result",
          "execution_count": 15,
          "data": {
            "text/html": "<div>\n<style scoped>\n    .dataframe tbody tr th:only-of-type {\n        vertical-align: middle;\n    }\n\n    .dataframe tbody tr th {\n        vertical-align: top;\n    }\n\n    .dataframe thead th {\n        text-align: right;\n    }\n</style>\n<table border=\"1\" class=\"dataframe\">\n  <thead>\n    <tr style=\"text-align: right;\">\n      <th></th>\n      <th>population</th>\n      <th>suicides/100kpop</th>\n      <th>gdp_for_year($)</th>\n      <th>gdp_per_capita($)</th>\n      <th>suicides_no</th>\n    </tr>\n  </thead>\n  <tbody>\n    <tr>\n      <th>0</th>\n      <td>2709600</td>\n      <td>31.85</td>\n      <td>2156624900</td>\n      <td>796</td>\n      <td>73</td>\n    </tr>\n    <tr>\n      <th>1</th>\n      <td>2764300</td>\n      <td>32.46</td>\n      <td>2126000000</td>\n      <td>769</td>\n      <td>63</td>\n    </tr>\n    <tr>\n      <th>2</th>\n      <td>2803100</td>\n      <td>33.40</td>\n      <td>2335124988</td>\n      <td>833</td>\n      <td>68</td>\n    </tr>\n    <tr>\n      <th>3</th>\n      <td>2822500</td>\n      <td>18.00</td>\n      <td>709452584</td>\n      <td>251</td>\n      <td>47</td>\n    </tr>\n    <tr>\n      <th>4</th>\n      <td>2807300</td>\n      <td>32.56</td>\n      <td>1228071038</td>\n      <td>437</td>\n      <td>73</td>\n    </tr>\n  </tbody>\n</table>\n</div>",
            "text/plain": "   population  suicides/100kpop  gdp_for_year($)  gdp_per_capita($)  \\\n0     2709600             31.85       2156624900                796   \n1     2764300             32.46       2126000000                769   \n2     2803100             33.40       2335124988                833   \n3     2822500             18.00        709452584                251   \n4     2807300             32.56       1228071038                437   \n\n   suicides_no  \n0           73  \n1           63  \n2           68  \n3           47  \n4           73  "
          },
          "metadata": {}
        }
      ]
    },
    {
      "metadata": {},
      "cell_type": "markdown",
      "source": "Con esto terminamos la fase de procesamiento de los datos"
    },
    {
      "metadata": {},
      "cell_type": "markdown",
      "source": "### Analisis exploratorio"
    },
    {
      "metadata": {},
      "cell_type": "markdown",
      "source": "### Conjuntos de datos"
    },
    {
      "metadata": {},
      "cell_type": "markdown",
      "source": "Procederemos a conformar dos conjuntos de datos, tomando muestras aleatorias de la data procesada.\n\nUn conjunto de entranamiento con el 70% del tamaño total y un conjunto de pruebas con el 30% del tamaño total."
    },
    {
      "metadata": {
        "trusted": true
      },
      "cell_type": "code",
      "source": "# Entrenamiento\ndataT = data.sample(frac=0.7, replace=False, random_state=1)\n\n#Pruebas\ndataTest = data.sample(frac=0.3, replace=False, random_state=2)",
      "execution_count": 17,
      "outputs": []
    },
    {
      "metadata": {},
      "cell_type": "markdown",
      "source": "### Modelado"
    },
    {
      "metadata": {},
      "cell_type": "markdown",
      "source": "Para la fase de modelado se require separar los datos de las variables independientes **X** de la variable dependiente **y**"
    },
    {
      "metadata": {
        "trusted": true
      },
      "cell_type": "code",
      "source": "y = dataT['suicides_no'].values",
      "execution_count": 18,
      "outputs": []
    },
    {
      "metadata": {
        "trusted": true
      },
      "cell_type": "code",
      "source": "del dataT['suicides_no']\nX = dataT.values",
      "execution_count": 19,
      "outputs": []
    },
    {
      "metadata": {},
      "cell_type": "markdown",
      "source": "El modelo seleccionado es **ElasticNet**\n\nProcedemos a entrenar el modelo con los conjunto **X** e **y**"
    },
    {
      "metadata": {
        "trusted": true
      },
      "cell_type": "code",
      "source": "from sklearn import linear_model\nregr = linear_model.ElasticNet(random_state=0)\nregr.fit(X, y)",
      "execution_count": 20,
      "outputs": [
        {
          "output_type": "execute_result",
          "execution_count": 20,
          "data": {
            "text/plain": "ElasticNet(alpha=1.0, copy_X=True, fit_intercept=True, l1_ratio=0.5,\n      max_iter=1000, normalize=False, positive=False, precompute=False,\n      random_state=0, selection='cyclic', tol=0.0001, warm_start=False)"
          },
          "metadata": {}
        }
      ]
    },
    {
      "metadata": {},
      "cell_type": "markdown",
      "source": "### Evaluacion"
    },
    {
      "metadata": {},
      "cell_type": "markdown",
      "source": "Obtenemos el conjunto de variables independientes **X** del conjunto de pruebas **dataTest**"
    },
    {
      "metadata": {
        "trusted": true
      },
      "cell_type": "code",
      "source": "del dataTest['suicides_no']\nX = dataTest.values",
      "execution_count": 21,
      "outputs": []
    },
    {
      "metadata": {},
      "cell_type": "markdown",
      "source": "Para un observacion aleatoria del conjunto de pruebas"
    },
    {
      "metadata": {
        "trusted": true
      },
      "cell_type": "code",
      "source": "import random\n\ntest = X[random.randint(1,101)]\n\nprint(test)",
      "execution_count": 36,
      "outputs": [
        {
          "output_type": "stream",
          "text": "[3.92600000e+05 3.07600000e+02 1.97319125e+10 5.02600000e+04]\n",
          "name": "stdout"
        }
      ]
    },
    {
      "metadata": {},
      "cell_type": "markdown",
      "source": "Tenemos el siguiente resultado"
    },
    {
      "metadata": {
        "trusted": true
      },
      "cell_type": "code",
      "source": "regr.predict([test])",
      "execution_count": 37,
      "outputs": [
        {
          "output_type": "execute_result",
          "execution_count": 37,
          "data": {
            "text/plain": "array([2798.0548395])"
          },
          "metadata": {}
        }
      ]
    }
  ],
  "metadata": {
    "kernelspec": {
      "name": "python36",
      "display_name": "Python 3.6",
      "language": "python"
    },
    "language_info": {
      "mimetype": "text/x-python",
      "nbconvert_exporter": "python",
      "name": "python",
      "pygments_lexer": "ipython3",
      "version": "3.6.6",
      "file_extension": ".py",
      "codemirror_mode": {
        "version": 3,
        "name": "ipython"
      }
    }
  },
  "nbformat": 4,
  "nbformat_minor": 1
}