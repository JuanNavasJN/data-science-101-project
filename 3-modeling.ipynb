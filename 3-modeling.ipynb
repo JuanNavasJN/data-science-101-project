{
  "cells": [
    {
      "metadata": {
        "trusted": true
      },
      "cell_type": "code",
      "source": "import pandas as pd\nimport numpy as np\nimport matplotlib.pyplot as plt\n\ndata = pd.read_csv('./pre_procesing_output.csv')",
      "execution_count": 34,
      "outputs": []
    },
    {
      "metadata": {
        "trusted": true
      },
      "cell_type": "code",
      "source": "data.head()",
      "execution_count": 20,
      "outputs": [
        {
          "output_type": "execute_result",
          "execution_count": 20,
          "data": {
            "text/html": "<div>\n<style scoped>\n    .dataframe tbody tr th:only-of-type {\n        vertical-align: middle;\n    }\n\n    .dataframe tbody tr th {\n        vertical-align: top;\n    }\n\n    .dataframe thead th {\n        text-align: right;\n    }\n</style>\n<table border=\"1\" class=\"dataframe\">\n  <thead>\n    <tr style=\"text-align: right;\">\n      <th></th>\n      <th>population</th>\n      <th>suicides/100kpop</th>\n      <th>gdp_for_year($)</th>\n      <th>gdp_per_capita($)</th>\n      <th>suicides_no</th>\n    </tr>\n  </thead>\n  <tbody>\n    <tr>\n      <th>0</th>\n      <td>2709600</td>\n      <td>31.85</td>\n      <td>2156624900</td>\n      <td>796</td>\n      <td>73</td>\n    </tr>\n    <tr>\n      <th>1</th>\n      <td>2764300</td>\n      <td>32.46</td>\n      <td>2126000000</td>\n      <td>769</td>\n      <td>63</td>\n    </tr>\n    <tr>\n      <th>2</th>\n      <td>2803100</td>\n      <td>33.40</td>\n      <td>2335124988</td>\n      <td>833</td>\n      <td>68</td>\n    </tr>\n    <tr>\n      <th>3</th>\n      <td>2822500</td>\n      <td>18.00</td>\n      <td>709452584</td>\n      <td>251</td>\n      <td>47</td>\n    </tr>\n    <tr>\n      <th>4</th>\n      <td>2807300</td>\n      <td>32.56</td>\n      <td>1228071038</td>\n      <td>437</td>\n      <td>73</td>\n    </tr>\n  </tbody>\n</table>\n</div>",
            "text/plain": "   population  suicides/100kpop  gdp_for_year($)  gdp_per_capita($)  \\\n0     2709600             31.85       2156624900                796   \n1     2764300             32.46       2126000000                769   \n2     2803100             33.40       2335124988                833   \n3     2822500             18.00        709452584                251   \n4     2807300             32.56       1228071038                437   \n\n   suicides_no  \n0           73  \n1           63  \n2           68  \n3           47  \n4           73  "
          },
          "metadata": {}
        }
      ]
    },
    {
      "metadata": {
        "trusted": true
      },
      "cell_type": "code",
      "source": "aux = data['suicides_no'].values\n\ndef func(n): \n    return [n]\n\nres = map(func, aux) \ny = np.asarray(list(res))\nprint(y)\n# np.asarray(y)\n# print(y)",
      "execution_count": 47,
      "outputs": [
        {
          "output_type": "stream",
          "text": "[[  73]\n [  63]\n [  68]\n ...\n [1835]\n [1950]\n [2095]]\n",
          "name": "stdout"
        }
      ]
    },
    {
      "metadata": {
        "trusted": true
      },
      "cell_type": "code",
      "source": "del data['suicides_no']\nX = data.values\nprint(X)",
      "execution_count": 26,
      "outputs": [
        {
          "output_type": "stream",
          "text": "[[2.70960000e+06 3.18500000e+01 2.15662490e+09 7.96000000e+02]\n [2.76430000e+06 3.24600000e+01 2.12600000e+09 7.69000000e+02]\n [2.80310000e+06 3.34000000e+01 2.33512499e+09 8.33000000e+02]\n ...\n [2.63818300e+07 7.75300000e+01 5.18215733e+10 1.96400000e+03]\n [2.68389240e+07 7.88600000e+01 5.76904535e+10 2.15000000e+03]\n [2.73135070e+07 8.51200000e+01 6.30670772e+10 2.30900000e+03]]\n",
          "name": "stdout"
        }
      ]
    },
    {
      "metadata": {
        "trusted": true
      },
      "cell_type": "code",
      "source": "print(y)",
      "execution_count": 48,
      "outputs": [
        {
          "output_type": "stream",
          "text": "[[  73]\n [  63]\n [  68]\n ...\n [1835]\n [1950]\n [2095]]\n",
          "name": "stdout"
        }
      ]
    },
    {
      "metadata": {
        "trusted": true
      },
      "cell_type": "code",
      "source": "print(X)",
      "execution_count": 49,
      "outputs": [
        {
          "output_type": "stream",
          "text": "[[2.70960000e+06 3.18500000e+01 2.15662490e+09 7.96000000e+02]\n [2.76430000e+06 3.24600000e+01 2.12600000e+09 7.69000000e+02]\n [2.80310000e+06 3.34000000e+01 2.33512499e+09 8.33000000e+02]\n ...\n [2.63818300e+07 7.75300000e+01 5.18215733e+10 1.96400000e+03]\n [2.68389240e+07 7.88600000e+01 5.76904535e+10 2.15000000e+03]\n [2.73135070e+07 8.51200000e+01 6.30670772e+10 2.30900000e+03]]\n",
          "name": "stdout"
        }
      ]
    },
    {
      "metadata": {
        "trusted": true
      },
      "cell_type": "code",
      "source": "from sklearn import linear_model\nregr = linear_model.ElasticNet(random_state=0)\nregr.fit(X, y)",
      "execution_count": 30,
      "outputs": [
        {
          "output_type": "execute_result",
          "execution_count": 30,
          "data": {
            "text/plain": "ElasticNet(alpha=1.0, copy_X=True, fit_intercept=True, l1_ratio=0.5,\n      max_iter=1000, normalize=False, positive=False, precompute=False,\n      random_state=0, selection='cyclic', tol=0.0001, warm_start=False)"
          },
          "metadata": {}
        }
      ]
    },
    {
      "metadata": {
        "trusted": true
      },
      "cell_type": "code",
      "source": "regr.predict([[2709600, 31.85, 2156624900, 796]])",
      "execution_count": 32,
      "outputs": [
        {
          "output_type": "execute_result",
          "execution_count": 32,
          "data": {
            "text/plain": "array([-1836.665219])"
          },
          "metadata": {}
        }
      ]
    },
    {
      "metadata": {
        "trusted": true
      },
      "cell_type": "code",
      "source": "from sklearn import linear_model\nclf = linear_model.MultiTaskLasso(alpha=0.1)\nclf.fit(X, y)",
      "execution_count": 50,
      "outputs": [
        {
          "output_type": "execute_result",
          "execution_count": 50,
          "data": {
            "text/plain": "MultiTaskLasso(alpha=0.1, copy_X=True, fit_intercept=True, max_iter=1000,\n        normalize=False, random_state=None, selection='cyclic', tol=0.0001,\n        warm_start=False)"
          },
          "metadata": {}
        }
      ]
    },
    {
      "metadata": {
        "trusted": true
      },
      "cell_type": "code",
      "source": "clf.predict([[2709600, 31.85, 2156624900, 796]])",
      "execution_count": 51,
      "outputs": [
        {
          "output_type": "execute_result",
          "execution_count": 51,
          "data": {
            "text/plain": "array([[-1836.74253043]])"
          },
          "metadata": {}
        }
      ]
    },
    {
      "metadata": {
        "trusted": true
      },
      "cell_type": "code",
      "source": "",
      "execution_count": null,
      "outputs": []
    }
  ],
  "metadata": {
    "kernelspec": {
      "name": "python36",
      "display_name": "Python 3.6",
      "language": "python"
    },
    "language_info": {
      "mimetype": "text/x-python",
      "nbconvert_exporter": "python",
      "name": "python",
      "pygments_lexer": "ipython3",
      "version": "3.6.6",
      "file_extension": ".py",
      "codemirror_mode": {
        "version": 3,
        "name": "ipython"
      }
    }
  },
  "nbformat": 4,
  "nbformat_minor": 1
}