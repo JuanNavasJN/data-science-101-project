{
  "cells": [
    {
      "metadata": {
        "trusted": true
      },
      "cell_type": "code",
      "source": "import pandas as pd\nimport numpy as np\nimport matplotlib.pyplot as plt\n\ndata = pd.read_csv('./pre_procesing_output.csv')",
      "execution_count": 39,
      "outputs": []
    },
    {
      "metadata": {
        "trusted": true
      },
      "cell_type": "code",
      "source": "# dataT -> data training\n# dataTest -> data test\n\ndataT = data.sample(frac=0.7, replace=False, random_state=1)\n\ndataTest = data.sample(frac=0.3, replace=False, random_state=2)\n\n# dataT.describe()\n# dataTest.describe()",
      "execution_count": 40,
      "outputs": []
    },
    {
      "metadata": {
        "trusted": true
      },
      "cell_type": "code",
      "source": "data.head()",
      "execution_count": 11,
      "outputs": [
        {
          "output_type": "execute_result",
          "execution_count": 11,
          "data": {
            "text/html": "<div>\n<style scoped>\n    .dataframe tbody tr th:only-of-type {\n        vertical-align: middle;\n    }\n\n    .dataframe tbody tr th {\n        vertical-align: top;\n    }\n\n    .dataframe thead th {\n        text-align: right;\n    }\n</style>\n<table border=\"1\" class=\"dataframe\">\n  <thead>\n    <tr style=\"text-align: right;\">\n      <th></th>\n      <th>population</th>\n      <th>suicides/100kpop</th>\n      <th>gdp_for_year($)</th>\n      <th>gdp_per_capita($)</th>\n      <th>suicides_no</th>\n    </tr>\n  </thead>\n  <tbody>\n    <tr>\n      <th>0</th>\n      <td>2709600</td>\n      <td>31.85</td>\n      <td>2156624900</td>\n      <td>796</td>\n      <td>73</td>\n    </tr>\n    <tr>\n      <th>1</th>\n      <td>2764300</td>\n      <td>32.46</td>\n      <td>2126000000</td>\n      <td>769</td>\n      <td>63</td>\n    </tr>\n    <tr>\n      <th>2</th>\n      <td>2803100</td>\n      <td>33.40</td>\n      <td>2335124988</td>\n      <td>833</td>\n      <td>68</td>\n    </tr>\n    <tr>\n      <th>3</th>\n      <td>2822500</td>\n      <td>18.00</td>\n      <td>709452584</td>\n      <td>251</td>\n      <td>47</td>\n    </tr>\n    <tr>\n      <th>4</th>\n      <td>2807300</td>\n      <td>32.56</td>\n      <td>1228071038</td>\n      <td>437</td>\n      <td>73</td>\n    </tr>\n  </tbody>\n</table>\n</div>",
            "text/plain": "   population  suicides/100kpop  gdp_for_year($)  gdp_per_capita($)  \\\n0     2709600             31.85       2156624900                796   \n1     2764300             32.46       2126000000                769   \n2     2803100             33.40       2335124988                833   \n3     2822500             18.00        709452584                251   \n4     2807300             32.56       1228071038                437   \n\n   suicides_no  \n0           73  \n1           63  \n2           68  \n3           47  \n4           73  "
          },
          "metadata": {}
        }
      ]
    },
    {
      "metadata": {
        "trusted": true
      },
      "cell_type": "code",
      "source": "y = dataT['suicides_no'].values",
      "execution_count": 41,
      "outputs": []
    },
    {
      "metadata": {
        "trusted": true
      },
      "cell_type": "code",
      "source": "del dataT['suicides_no']\nX = dataT.values\nprint(X)",
      "execution_count": 32,
      "outputs": [
        {
          "output_type": "stream",
          "text": "[[5.89416210e+07 7.91400000e+01 2.62942651e+11 4.46100000e+03]\n [2.87980500e+06 4.07690000e+02 4.34768734e+10 1.50970000e+04]\n [4.02670700e+06 1.21770000e+02 2.69917520e+11 6.70320000e+04]\n ...\n [4.91561400e+06 2.55520000e+02 1.39552983e+11 2.83900000e+04]\n [2.32000000e+05 1.10120000e+02 5.58853301e+09 2.40890000e+04]\n [4.68142070e+07 4.66540000e+02 1.12267915e+12 2.39820000e+04]]\n",
          "name": "stdout"
        }
      ]
    },
    {
      "metadata": {
        "trusted": true
      },
      "cell_type": "code",
      "source": "print(y)",
      "execution_count": 33,
      "outputs": [
        {
          "output_type": "stream",
          "text": "[ 3754  1018   458 ...  1095    22 12174]\n",
          "name": "stdout"
        }
      ]
    },
    {
      "metadata": {
        "trusted": true
      },
      "cell_type": "code",
      "source": "print(X)",
      "execution_count": 34,
      "outputs": [
        {
          "output_type": "stream",
          "text": "[[5.89416210e+07 7.91400000e+01 2.62942651e+11 4.46100000e+03]\n [2.87980500e+06 4.07690000e+02 4.34768734e+10 1.50970000e+04]\n [4.02670700e+06 1.21770000e+02 2.69917520e+11 6.70320000e+04]\n ...\n [4.91561400e+06 2.55520000e+02 1.39552983e+11 2.83900000e+04]\n [2.32000000e+05 1.10120000e+02 5.58853301e+09 2.40890000e+04]\n [4.68142070e+07 4.66540000e+02 1.12267915e+12 2.39820000e+04]]\n",
          "name": "stdout"
        }
      ]
    },
    {
      "metadata": {},
      "cell_type": "markdown",
      "source": "### Training"
    },
    {
      "metadata": {
        "trusted": true
      },
      "cell_type": "code",
      "source": "from sklearn import linear_model\nregr = linear_model.ElasticNet(random_state=0)\nregr.fit(X, y)",
      "execution_count": 35,
      "outputs": [
        {
          "output_type": "execute_result",
          "execution_count": 35,
          "data": {
            "text/plain": "ElasticNet(alpha=1.0, copy_X=True, fit_intercept=True, l1_ratio=0.5,\n      max_iter=1000, normalize=False, positive=False, precompute=False,\n      random_state=0, selection='cyclic', tol=0.0001, warm_start=False)"
          },
          "metadata": {}
        }
      ]
    },
    {
      "metadata": {},
      "cell_type": "markdown",
      "source": "### Evaluation"
    },
    {
      "metadata": {
        "trusted": true
      },
      "cell_type": "code",
      "source": "regr.predict([[2709600, 31.85, 2156624900, 796]])",
      "execution_count": 36,
      "outputs": [
        {
          "output_type": "execute_result",
          "execution_count": 36,
          "data": {
            "text/plain": "array([-1914.21093398])"
          },
          "metadata": {}
        }
      ]
    },
    {
      "metadata": {
        "trusted": true
      },
      "cell_type": "code",
      "source": "",
      "execution_count": null,
      "outputs": []
    }
  ],
  "metadata": {
    "kernelspec": {
      "name": "python36",
      "display_name": "Python 3.6",
      "language": "python"
    },
    "language_info": {
      "mimetype": "text/x-python",
      "nbconvert_exporter": "python",
      "name": "python",
      "pygments_lexer": "ipython3",
      "version": "3.6.6",
      "file_extension": ".py",
      "codemirror_mode": {
        "version": 3,
        "name": "ipython"
      }
    }
  },
  "nbformat": 4,
  "nbformat_minor": 1
}