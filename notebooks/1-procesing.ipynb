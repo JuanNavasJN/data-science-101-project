{
  "cells": [
    {
      "metadata": {
        "id": "Ci9xI_1DuMv8",
        "colab_type": "code",
        "colab": {},
        "trusted": true
      },
      "cell_type": "code",
      "source": "import pandas as pd\nimport numpy as np\nimport matplotlib.pyplot as plt",
      "execution_count": 1,
      "outputs": []
    },
    {
      "metadata": {
        "id": "Ol2Y8fR-u3U4",
        "colab_type": "code",
        "colab": {},
        "trusted": true
      },
      "cell_type": "code",
      "source": "data = pd.read_csv('./data.csv')\ncols = list(data)\ndata.count()",
      "execution_count": 39,
      "outputs": [
        {
          "output_type": "execute_result",
          "execution_count": 39,
          "data": {
            "text/plain": "country               27820\nyear                  27820\nsex                   27820\nage                   27820\nsuicides_no           27820\npopulation            27820\nsuicides/100k pop     27820\ncountry-year          27820\nHDI for year           8364\n gdp_for_year ($)     27820\ngdp_per_capita ($)    27820\ngeneration            27820\ndtype: int64"
          },
          "metadata": {}
        }
      ]
    },
    {
      "metadata": {
        "trusted": true
      },
      "cell_type": "code",
      "source": "# suicides_no to last column\ncols.insert(len(cols) - 1, cols.pop(cols.index('suicides_no')))\ndata = data.loc[:, cols]\ndata.head()",
      "execution_count": 40,
      "outputs": [
        {
          "output_type": "execute_result",
          "execution_count": 40,
          "data": {
            "text/html": "<div>\n<style scoped>\n    .dataframe tbody tr th:only-of-type {\n        vertical-align: middle;\n    }\n\n    .dataframe tbody tr th {\n        vertical-align: top;\n    }\n\n    .dataframe thead th {\n        text-align: right;\n    }\n</style>\n<table border=\"1\" class=\"dataframe\">\n  <thead>\n    <tr style=\"text-align: right;\">\n      <th></th>\n      <th>country</th>\n      <th>year</th>\n      <th>sex</th>\n      <th>age</th>\n      <th>population</th>\n      <th>suicides/100k pop</th>\n      <th>country-year</th>\n      <th>HDI for year</th>\n      <th>gdp_for_year ($)</th>\n      <th>gdp_per_capita ($)</th>\n      <th>generation</th>\n      <th>suicides_no</th>\n    </tr>\n  </thead>\n  <tbody>\n    <tr>\n      <th>0</th>\n      <td>Albania</td>\n      <td>1987</td>\n      <td>male</td>\n      <td>15-24 years</td>\n      <td>312900</td>\n      <td>6.71</td>\n      <td>Albania1987</td>\n      <td>NaN</td>\n      <td>2,156,624,900</td>\n      <td>796</td>\n      <td>Generation X</td>\n      <td>21</td>\n    </tr>\n    <tr>\n      <th>1</th>\n      <td>Albania</td>\n      <td>1987</td>\n      <td>male</td>\n      <td>35-54 years</td>\n      <td>308000</td>\n      <td>5.19</td>\n      <td>Albania1987</td>\n      <td>NaN</td>\n      <td>2,156,624,900</td>\n      <td>796</td>\n      <td>Silent</td>\n      <td>16</td>\n    </tr>\n    <tr>\n      <th>2</th>\n      <td>Albania</td>\n      <td>1987</td>\n      <td>female</td>\n      <td>15-24 years</td>\n      <td>289700</td>\n      <td>4.83</td>\n      <td>Albania1987</td>\n      <td>NaN</td>\n      <td>2,156,624,900</td>\n      <td>796</td>\n      <td>Generation X</td>\n      <td>14</td>\n    </tr>\n    <tr>\n      <th>3</th>\n      <td>Albania</td>\n      <td>1987</td>\n      <td>male</td>\n      <td>75+ years</td>\n      <td>21800</td>\n      <td>4.59</td>\n      <td>Albania1987</td>\n      <td>NaN</td>\n      <td>2,156,624,900</td>\n      <td>796</td>\n      <td>G.I. Generation</td>\n      <td>1</td>\n    </tr>\n    <tr>\n      <th>4</th>\n      <td>Albania</td>\n      <td>1987</td>\n      <td>male</td>\n      <td>25-34 years</td>\n      <td>274300</td>\n      <td>3.28</td>\n      <td>Albania1987</td>\n      <td>NaN</td>\n      <td>2,156,624,900</td>\n      <td>796</td>\n      <td>Boomers</td>\n      <td>9</td>\n    </tr>\n  </tbody>\n</table>\n</div>",
            "text/plain": "   country  year     sex          age  population  suicides/100k pop  \\\n0  Albania  1987    male  15-24 years      312900               6.71   \n1  Albania  1987    male  35-54 years      308000               5.19   \n2  Albania  1987  female  15-24 years      289700               4.83   \n3  Albania  1987    male    75+ years       21800               4.59   \n4  Albania  1987    male  25-34 years      274300               3.28   \n\n  country-year  HDI for year  gdp_for_year ($)   gdp_per_capita ($)  \\\n0  Albania1987           NaN      2,156,624,900                 796   \n1  Albania1987           NaN      2,156,624,900                 796   \n2  Albania1987           NaN      2,156,624,900                 796   \n3  Albania1987           NaN      2,156,624,900                 796   \n4  Albania1987           NaN      2,156,624,900                 796   \n\n        generation  suicides_no  \n0     Generation X           21  \n1           Silent           16  \n2     Generation X           14  \n3  G.I. Generation            1  \n4          Boomers            9  "
          },
          "metadata": {}
        }
      ]
    },
    {
      "metadata": {
        "trusted": true,
        "scrolled": true
      },
      "cell_type": "code",
      "source": "del data['country']\n# del data['country-year']\ndel data['year']\ndel data['HDI for year']\ndel data['generation']",
      "execution_count": 41,
      "outputs": []
    },
    {
      "metadata": {
        "trusted": true
      },
      "cell_type": "code",
      "source": "data.columns = data.columns.str.replace(' ', '')",
      "execution_count": 42,
      "outputs": []
    },
    {
      "metadata": {
        "trusted": true
      },
      "cell_type": "code",
      "source": "data.head()",
      "execution_count": 43,
      "outputs": [
        {
          "output_type": "execute_result",
          "execution_count": 43,
          "data": {
            "text/html": "<div>\n<style scoped>\n    .dataframe tbody tr th:only-of-type {\n        vertical-align: middle;\n    }\n\n    .dataframe tbody tr th {\n        vertical-align: top;\n    }\n\n    .dataframe thead th {\n        text-align: right;\n    }\n</style>\n<table border=\"1\" class=\"dataframe\">\n  <thead>\n    <tr style=\"text-align: right;\">\n      <th></th>\n      <th>sex</th>\n      <th>age</th>\n      <th>population</th>\n      <th>suicides/100kpop</th>\n      <th>country-year</th>\n      <th>gdp_for_year($)</th>\n      <th>gdp_per_capita($)</th>\n      <th>suicides_no</th>\n    </tr>\n  </thead>\n  <tbody>\n    <tr>\n      <th>0</th>\n      <td>male</td>\n      <td>15-24 years</td>\n      <td>312900</td>\n      <td>6.71</td>\n      <td>Albania1987</td>\n      <td>2,156,624,900</td>\n      <td>796</td>\n      <td>21</td>\n    </tr>\n    <tr>\n      <th>1</th>\n      <td>male</td>\n      <td>35-54 years</td>\n      <td>308000</td>\n      <td>5.19</td>\n      <td>Albania1987</td>\n      <td>2,156,624,900</td>\n      <td>796</td>\n      <td>16</td>\n    </tr>\n    <tr>\n      <th>2</th>\n      <td>female</td>\n      <td>15-24 years</td>\n      <td>289700</td>\n      <td>4.83</td>\n      <td>Albania1987</td>\n      <td>2,156,624,900</td>\n      <td>796</td>\n      <td>14</td>\n    </tr>\n    <tr>\n      <th>3</th>\n      <td>male</td>\n      <td>75+ years</td>\n      <td>21800</td>\n      <td>4.59</td>\n      <td>Albania1987</td>\n      <td>2,156,624,900</td>\n      <td>796</td>\n      <td>1</td>\n    </tr>\n    <tr>\n      <th>4</th>\n      <td>male</td>\n      <td>25-34 years</td>\n      <td>274300</td>\n      <td>3.28</td>\n      <td>Albania1987</td>\n      <td>2,156,624,900</td>\n      <td>796</td>\n      <td>9</td>\n    </tr>\n  </tbody>\n</table>\n</div>",
            "text/plain": "      sex          age  population  suicides/100kpop country-year  \\\n0    male  15-24 years      312900              6.71  Albania1987   \n1    male  35-54 years      308000              5.19  Albania1987   \n2  female  15-24 years      289700              4.83  Albania1987   \n3    male    75+ years       21800              4.59  Albania1987   \n4    male  25-34 years      274300              3.28  Albania1987   \n\n  gdp_for_year($)  gdp_per_capita($)  suicides_no  \n0   2,156,624,900                796           21  \n1   2,156,624,900                796           16  \n2   2,156,624,900                796           14  \n3   2,156,624,900                796            1  \n4   2,156,624,900                796            9  "
          },
          "metadata": {}
        }
      ]
    },
    {
      "metadata": {
        "trusted": true
      },
      "cell_type": "code",
      "source": "data.dtypes",
      "execution_count": 32,
      "outputs": [
        {
          "output_type": "execute_result",
          "execution_count": 32,
          "data": {
            "text/plain": "sex                   object\nage                   object\npopulation             int64\nsuicides/100kpop     float64\ncountry-year          object\ngdp_for_year($)       object\ngdp_per_capita($)      int64\nsuicides_no            int64\ndtype: object"
          },
          "metadata": {}
        }
      ]
    },
    {
      "metadata": {
        "trusted": true
      },
      "cell_type": "code",
      "source": "data['gdp_for_year($)'] = data['gdp_for_year($)'].str.replace(',', '')\ndata['gdp_for_year($)'] = data['gdp_for_year($)'].astype('int')",
      "execution_count": 44,
      "outputs": []
    },
    {
      "metadata": {
        "trusted": true
      },
      "cell_type": "code",
      "source": "data.dtypes",
      "execution_count": 45,
      "outputs": [
        {
          "output_type": "execute_result",
          "execution_count": 45,
          "data": {
            "text/plain": "sex                   object\nage                   object\npopulation             int64\nsuicides/100kpop     float64\ncountry-year          object\ngdp_for_year($)        int64\ngdp_per_capita($)      int64\nsuicides_no            int64\ndtype: object"
          },
          "metadata": {}
        }
      ]
    },
    {
      "metadata": {
        "trusted": true
      },
      "cell_type": "code",
      "source": "data = data.groupby(\n   ['country-year'],\n    as_index=False\n).agg(\n    {\n         'population': 'sum',    \n         'suicides/100kpop': 'sum',  \n         'gdp_for_year($)': 'median',\n         'gdp_per_capita($)': 'median',\n         'suicides_no': 'sum'\n    }\n)",
      "execution_count": 52,
      "outputs": []
    },
    {
      "metadata": {
        "trusted": true
      },
      "cell_type": "code",
      "source": "data.head()",
      "execution_count": 55,
      "outputs": [
        {
          "output_type": "execute_result",
          "execution_count": 55,
          "data": {
            "text/html": "<div>\n<style scoped>\n    .dataframe tbody tr th:only-of-type {\n        vertical-align: middle;\n    }\n\n    .dataframe tbody tr th {\n        vertical-align: top;\n    }\n\n    .dataframe thead th {\n        text-align: right;\n    }\n</style>\n<table border=\"1\" class=\"dataframe\">\n  <thead>\n    <tr style=\"text-align: right;\">\n      <th></th>\n      <th>country-year</th>\n      <th>population</th>\n      <th>suicides/100kpop</th>\n      <th>gdp_for_year($)</th>\n      <th>gdp_per_capita($)</th>\n      <th>suicides_no</th>\n    </tr>\n  </thead>\n  <tbody>\n    <tr>\n      <th>0</th>\n      <td>Albania1987</td>\n      <td>2709600</td>\n      <td>31.85</td>\n      <td>2156624900</td>\n      <td>796</td>\n      <td>73</td>\n    </tr>\n    <tr>\n      <th>1</th>\n      <td>Albania1988</td>\n      <td>2764300</td>\n      <td>32.46</td>\n      <td>2126000000</td>\n      <td>769</td>\n      <td>63</td>\n    </tr>\n    <tr>\n      <th>2</th>\n      <td>Albania1989</td>\n      <td>2803100</td>\n      <td>33.40</td>\n      <td>2335124988</td>\n      <td>833</td>\n      <td>68</td>\n    </tr>\n    <tr>\n      <th>3</th>\n      <td>Albania1992</td>\n      <td>2822500</td>\n      <td>18.00</td>\n      <td>709452584</td>\n      <td>251</td>\n      <td>47</td>\n    </tr>\n    <tr>\n      <th>4</th>\n      <td>Albania1993</td>\n      <td>2807300</td>\n      <td>32.56</td>\n      <td>1228071038</td>\n      <td>437</td>\n      <td>73</td>\n    </tr>\n  </tbody>\n</table>\n</div>",
            "text/plain": "  country-year  population  suicides/100kpop  gdp_for_year($)  \\\n0  Albania1987     2709600             31.85       2156624900   \n1  Albania1988     2764300             32.46       2126000000   \n2  Albania1989     2803100             33.40       2335124988   \n3  Albania1992     2822500             18.00        709452584   \n4  Albania1993     2807300             32.56       1228071038   \n\n   gdp_per_capita($)  suicides_no  \n0                796           73  \n1                769           63  \n2                833           68  \n3                251           47  \n4                437           73  "
          },
          "metadata": {}
        }
      ]
    },
    {
      "metadata": {
        "trusted": true
      },
      "cell_type": "code",
      "source": "del data['country-year']",
      "execution_count": 56,
      "outputs": []
    },
    {
      "metadata": {
        "trusted": true
      },
      "cell_type": "code",
      "source": "data.to_csv('pre_procesing_output.csv', index=False)",
      "execution_count": 58,
      "outputs": []
    },
    {
      "metadata": {
        "id": "EEEoNm4Lu69s",
        "colab_type": "code",
        "colab": {},
        "trusted": true,
        "scrolled": true
      },
      "cell_type": "code",
      "source": "data.head()",
      "execution_count": 57,
      "outputs": [
        {
          "output_type": "execute_result",
          "execution_count": 57,
          "data": {
            "text/html": "<div>\n<style scoped>\n    .dataframe tbody tr th:only-of-type {\n        vertical-align: middle;\n    }\n\n    .dataframe tbody tr th {\n        vertical-align: top;\n    }\n\n    .dataframe thead th {\n        text-align: right;\n    }\n</style>\n<table border=\"1\" class=\"dataframe\">\n  <thead>\n    <tr style=\"text-align: right;\">\n      <th></th>\n      <th>population</th>\n      <th>suicides/100kpop</th>\n      <th>gdp_for_year($)</th>\n      <th>gdp_per_capita($)</th>\n      <th>suicides_no</th>\n    </tr>\n  </thead>\n  <tbody>\n    <tr>\n      <th>0</th>\n      <td>2709600</td>\n      <td>31.85</td>\n      <td>2156624900</td>\n      <td>796</td>\n      <td>73</td>\n    </tr>\n    <tr>\n      <th>1</th>\n      <td>2764300</td>\n      <td>32.46</td>\n      <td>2126000000</td>\n      <td>769</td>\n      <td>63</td>\n    </tr>\n    <tr>\n      <th>2</th>\n      <td>2803100</td>\n      <td>33.40</td>\n      <td>2335124988</td>\n      <td>833</td>\n      <td>68</td>\n    </tr>\n    <tr>\n      <th>3</th>\n      <td>2822500</td>\n      <td>18.00</td>\n      <td>709452584</td>\n      <td>251</td>\n      <td>47</td>\n    </tr>\n    <tr>\n      <th>4</th>\n      <td>2807300</td>\n      <td>32.56</td>\n      <td>1228071038</td>\n      <td>437</td>\n      <td>73</td>\n    </tr>\n  </tbody>\n</table>\n</div>",
            "text/plain": "   population  suicides/100kpop  gdp_for_year($)  gdp_per_capita($)  \\\n0     2709600             31.85       2156624900                796   \n1     2764300             32.46       2126000000                769   \n2     2803100             33.40       2335124988                833   \n3     2822500             18.00        709452584                251   \n4     2807300             32.56       1228071038                437   \n\n   suicides_no  \n0           73  \n1           63  \n2           68  \n3           47  \n4           73  "
          },
          "metadata": {}
        }
      ]
    },
    {
      "metadata": {
        "trusted": true
      },
      "cell_type": "code",
      "source": "# only males\nmales = data[data['sex'] == 'male']\n# len(males)\nsum_males = males['suicides_no'].sum()\n\n# only females\nfemales = data[data['sex'] == 'female']\n# len(females)\nsum_females = females['suicides_no'].sum()\n\nif(sum_females > sum_males):\n    print('More females than males')\nelse:\n    print('More males than females')\nprint('Females =', sum_females, ' , Males = ', sum_males)",
      "execution_count": 22,
      "outputs": [
        {
          "output_type": "stream",
          "text": "More males than females\nFemales = 1559510  , Males =  5188910\n",
          "name": "stdout"
        }
      ]
    }
  ],
  "metadata": {
    "kernelspec": {
      "name": "python36",
      "display_name": "Python 3.6",
      "language": "python"
    },
    "language_info": {
      "mimetype": "text/x-python",
      "nbconvert_exporter": "python",
      "name": "python",
      "pygments_lexer": "ipython3",
      "version": "3.6.6",
      "file_extension": ".py",
      "codemirror_mode": {
        "version": 3,
        "name": "ipython"
      }
    }
  },
  "nbformat": 4,
  "nbformat_minor": 2
}